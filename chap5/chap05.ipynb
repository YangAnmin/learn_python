{
 "cells": [
  {
   "cell_type": "markdown",
   "metadata": {},
   "source": [
    "# Chap05 If statements"
   ]
  },
  {
   "cell_type": "markdown",
   "metadata": {},
   "source": [
    "### Try it myself"
   ]
  },
  {
   "cell_type": "markdown",
   "metadata": {},
   "source": [
    "#### 5-1. Conditional Tests\n",
    "Write a series of conditional tests. Print a statement describing each test and your prediction for the results of each test. Your code should look something like this"
   ]
  },
  {
   "cell_type": "code",
   "execution_count": 2,
   "metadata": {},
   "outputs": [
    {
     "name": "stdout",
     "output_type": "stream",
     "text": [
      "True\n"
     ]
    }
   ],
   "source": [
    "number = [1,3,2,4,5]\n",
    "print(1 in number)"
   ]
  },
  {
   "cell_type": "markdown",
   "metadata": {},
   "source": [
    "### 5-2. More Conditional Tests\n",
    "You don’t have to limit the number of tests you create to ten. If you want to try more comparisons, write more tests and add them to conditional_tests.py. Have at least one True and one False result for each of the following:\n",
    "Tests for equality and inequality with strings\n",
    "Tests using the lower() method\n",
    "Numerical tests involving equality and inequality, greater than and less than, greater than or equal to, and less than or equal to\n",
    "Tests using the and keyword and the or keyword\n",
    "Test whether an item is in a list\n",
    "Test whether an item is not in a list"
   ]
  },
  {
   "cell_type": "code",
   "execution_count": 4,
   "metadata": {},
   "outputs": [
    {
     "name": "stdout",
     "output_type": "stream",
     "text": [
      "True\n",
      "True\n"
     ]
    }
   ],
   "source": [
    "cars = ['Toyota','BMW','Benz','Honda','Ford']\n",
    "print(cars[0]=='Toyota')\n",
    "print(cars[1].lower()=='bmw')"
   ]
  },
  {
   "cell_type": "markdown",
   "metadata": {},
   "source": [
    "## if statement"
   ]
  },
  {
   "cell_type": "markdown",
   "metadata": {},
   "source": [
    "### Try it myself"
   ]
  },
  {
   "cell_type": "markdown",
   "metadata": {},
   "source": [
    "#### 5-3. Alien Colors 1\n",
    "Imagine an alien was just shot down in a game. Create a variable called alien_color and assign it a value of 'green', 'yellow', or 'red'.\n",
    "\n",
    "Write an if statement to test whether the alien’s color is green. If it is, print a message that the player just earned 5 points.\n",
    "Write one version of this program that passes the if test and another that fails. (The version that fails will have no output.)"
   ]
  },
  {
   "cell_type": "code",
   "execution_count": 5,
   "metadata": {},
   "outputs": [
    {
     "name": "stdout",
     "output_type": "stream",
     "text": [
      "you have earned 5 points!\n"
     ]
    }
   ],
   "source": [
    "alien_color = 'green'\n",
    "if alien_color == 'green':\n",
    "    print('you have earned 5 points!')\n",
    "if alien_color == 'yellow':\n",
    "    print('no points')"
   ]
  },
  {
   "cell_type": "markdown",
   "metadata": {},
   "source": [
    "#### 5-4. Alien Colors 2\n",
    "Choose a color for an alien as you did in Exercise 5-3, and write an if-else chain.\n",
    "If the alien’s color is green, print a statement that the player just earned 5 points for shooting the alien.\n",
    "If the alien’s color isn’t green, print a statement that the player just earned 10 points.\n",
    "Write one version of this program that runs the if block and another that runs the else block."
   ]
  },
  {
   "cell_type": "code",
   "execution_count": 6,
   "metadata": {},
   "outputs": [
    {
     "name": "stdout",
     "output_type": "stream",
     "text": [
      "you have earned 5 points!\n",
      "you have earned 10 points!\n"
     ]
    }
   ],
   "source": [
    "alien_color = 'green'\n",
    "if alien_color == 'green':\n",
    "    print('you have earned 5 points!')\n",
    "else:\n",
    "    print('you have earned 10 points!')\n",
    "\n",
    "alien_color = 'grey'\n",
    "if alien_color == 'green':\n",
    "    print('you have earned 5 points!')\n",
    "else:\n",
    "    print('you have earned 10 points!')"
   ]
  },
  {
   "cell_type": "markdown",
   "metadata": {},
   "source": [
    "#### 5-5. Alien Colors 3\n",
    "Turn your if-else chain from Exercise 5-4 into an if-elif-else chain.\n",
    "If the alien is green, print a message that the player earned 5 points.\n",
    "If the alien is yellow, print a message that the player earned 10 points.\n",
    "If the alien is red, print a message that the player earned 15 points.\n",
    "Write three versions of this program, making sure each message is printed for the appropriate color alien."
   ]
  },
  {
   "cell_type": "code",
   "execution_count": 7,
   "metadata": {},
   "outputs": [
    {
     "name": "stdout",
     "output_type": "stream",
     "text": [
      "5 points\n",
      "10 points\n",
      "15 points\n"
     ]
    }
   ],
   "source": [
    "alien_color = ['green','yellow','red']\n",
    "\n",
    "color = alien_color[0]\n",
    "if color == 'green':\n",
    "    print('5 points')\n",
    "elif color == 'yellow':\n",
    "    print('10 points')\n",
    "elif color == 'red':\n",
    "    print('15 points')\n",
    "\n",
    "color = alien_color[1]\n",
    "if color == 'green':\n",
    "    print('5 points')\n",
    "elif color == 'yellow':\n",
    "    print('10 points')\n",
    "elif color == 'red':\n",
    "    print('15 points')\n",
    "    \n",
    "color = alien_color[2]\n",
    "if color == 'green':\n",
    "    print('5 points')\n",
    "elif color == 'yellow':\n",
    "    print('10 points')\n",
    "elif color == 'red':\n",
    "    print('15 points')"
   ]
  },
  {
   "cell_type": "markdown",
   "metadata": {},
   "source": [
    "#### 5-6. Stages of Life\n",
    "Write an if-elif-else chain that determines a person’s stage of life. Set a value for the variable age, and then:\n",
    "If the person is less than 2 years old, print a message that the person is a baby.\n",
    "If the person is at least 2 years old but less than 4, print a message that the person is a toddler.\n",
    "If the person is at least 4 years old but less than 13, print a message that the person is a kid.\n",
    "If the person is at least 13 years old but less than 20, print a message that the person is a teenager.\n",
    "If the person is at least 20 years old but less than 65, print a message that the person is an adult.\n",
    "If the person is age 65 or older, print a message that the person is an elder."
   ]
  },
  {
   "cell_type": "code",
   "execution_count": 8,
   "metadata": {},
   "outputs": [
    {
     "name": "stdout",
     "output_type": "stream",
     "text": [
      "you are a teenager\n"
     ]
    }
   ],
   "source": [
    "age = 18\n",
    "if age < 2:\n",
    "    print('you are a baby')\n",
    "elif (age >= 2) and (age < 4):\n",
    "    print('you are a toddler')\n",
    "elif (age >= 4) and (age < 13):\n",
    "    print('you are a kid')\n",
    "elif (age >= 13) and (age < 20):\n",
    "    print('you are a teenager')\n",
    "elif (age >= 20) and (age < 65):\n",
    "    print('you are an adult')\n",
    "elif age >= 65:\n",
    "    print('you are an elder')"
   ]
  },
  {
   "cell_type": "markdown",
   "metadata": {},
   "source": [
    "#### 5-7. Favorite Fruit\n",
    "Make a list of your favorite fruits, and then write a series of independent if statements that check for certain fruits in your list.\n",
    "Make a list of your three favorite fruits and call it favorite_fruits.\n",
    "Write five if statements. Each should check whether a certain kind of fruit is in your list. If the fruit is in your list, the if block should print a statement, such as You really like bananas!"
   ]
  },
  {
   "cell_type": "code",
   "execution_count": 9,
   "metadata": {},
   "outputs": [
    {
     "name": "stdout",
     "output_type": "stream",
     "text": [
      "you really like bananas\n",
      "you really like watermelon\n",
      "you really like apples\n"
     ]
    }
   ],
   "source": [
    "fruits = ['banana','watermelon','apple']\n",
    "if 'banana' in fruits:\n",
    "    print('you really like bananas')\n",
    "if 'peal' in fruits:\n",
    "    print('you really like peals')\n",
    "if 'watermelon' in fruits:\n",
    "    print('you really like watermelon')\n",
    "if 'cherry' in fruits:\n",
    "    print('you really like cherry')\n",
    "if 'apple' in fruits:\n",
    "    print('you really like apples')"
   ]
  },
  {
   "cell_type": "code",
   "execution_count": null,
   "metadata": {},
   "outputs": [],
   "source": []
  }
 ],
 "metadata": {
  "kernelspec": {
   "display_name": "Python 3",
   "language": "python",
   "name": "python3"
  },
  "language_info": {
   "codemirror_mode": {
    "name": "ipython",
    "version": 3
   },
   "file_extension": ".py",
   "mimetype": "text/x-python",
   "name": "python",
   "nbconvert_exporter": "python",
   "pygments_lexer": "ipython3",
   "version": "3.8.5"
  }
 },
 "nbformat": 4,
 "nbformat_minor": 4
}
